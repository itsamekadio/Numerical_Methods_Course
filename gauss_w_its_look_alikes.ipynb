{
  "nbformat": 4,
  "nbformat_minor": 0,
  "metadata": {
    "colab": {
      "provenance": [],
      "authorship_tag": "ABX9TyMwixQzg4GJb/Z2VkDpKWok",
      "include_colab_link": true
    },
    "kernelspec": {
      "name": "python3",
      "display_name": "Python 3"
    },
    "language_info": {
      "name": "python"
    }
  },
  "cells": [
    {
      "cell_type": "markdown",
      "metadata": {
        "id": "view-in-github",
        "colab_type": "text"
      },
      "source": [
        "<a href=\"https://colab.research.google.com/github/itsamekadio/Numerical_Methods_Course/blob/main/gauss_w_its_look_alikes.ipynb\" target=\"_parent\"><img src=\"https://colab.research.google.com/assets/colab-badge.svg\" alt=\"Open In Colab\"/></a>"
      ]
    },
    {
      "cell_type": "code",
      "source": [
        "import numpy as np\n",
        "\n",
        "def forward_elimination(A, b):\n",
        "    n = len(A)\n",
        "    for k in range(n - 1):\n",
        "        for i in range(k + 1, n):\n",
        "            factor = A[i][k] / A[k][k]\n",
        "            for j in range(k, n):\n",
        "                A[i][j] -= factor * A[k][j]\n",
        "            b[i] -= factor * b[k]\n",
        "\n",
        "def back_substitution(A, b):\n",
        "    n = len(A)\n",
        "    x = np.zeros(n)\n",
        "    x[n - 1] = b[n - 1] / A[n - 1][n - 1]\n",
        "    for i in range(n - 2, -1, -1):\n",
        "        sum_ = b[i]\n",
        "        for j in range(i + 1, n):\n",
        "            sum_ -= A[i][j] * x[j]\n",
        "        x[i] = sum_ / A[i][i]\n",
        "    return x\n",
        "\n",
        "def pivot(A, b, k):\n",
        "    n = len(A)\n",
        "    max_row = k + np.argmax(np.abs(A[k:n, k]))\n",
        "    if max_row != k:\n",
        "        A[[k, max_row]] = A[[max_row, k]]\n",
        "        b[[k, max_row]] = b[[max_row, k]]\n",
        "\n",
        "def full_elimination(A, b):\n",
        "    n = len(A)\n",
        "    for k in range(n):\n",
        "        pivot(A, b, k)\n",
        "\n",
        "\n",
        "        factor = A[k, k]\n",
        "        A[k] /= factor\n",
        "        b[k] /= factor\n",
        "\n",
        "\n",
        "        for i in range(n):\n",
        "            if i != k:\n",
        "                factor = A[i, k]\n",
        "                A[i] -= factor * A[k]\n",
        "                b[i] -= factor * b[k]\n",
        "\n",
        "def gauss_jordan(A, b):\n",
        "    full_elimination(A, b)\n",
        "    return b\n",
        "def gauss(A, b, tol=1e-9):\n",
        "\n",
        "    n = len(A)\n",
        "\n",
        "    for k in range(n - 1):\n",
        "        pivot(A, b, k)\n",
        "\n",
        "    forward_elimination(A, b)\n",
        "    return back_substitution(A, b)\n",
        "def naive_gauss_elimination(A, b):\n",
        "    forward_elimination(A, b)\n",
        "    return back_substitution(A, b)\n",
        "def matrix_norm(A, norm_type='inf'):\n",
        "    if norm_type == 'inf':\n",
        "        return np.linalg.norm(A, ord=np.inf)\n",
        "    elif norm_type == 'fro':\n",
        "        return np.linalg.norm(A, ord='fro')\n",
        "\n",
        "\n",
        "\n",
        "def condition_number(A, norm_type='inf'):\n",
        "    norm_A = matrix_norm(A, norm_type)\n",
        "    norm_A_inv = matrix_norm(np.linalg.inv(A), norm_type)\n",
        "    cond_number = norm_A * norm_A_inv\n",
        "    print(cond_number)\n",
        "    return cond_number\n",
        "\n",
        "def is_well_conditioned(A, norm_type='inf', threshold=100):\n",
        "    cond_num = condition_number(A, norm_type)\n",
        "    return \"Well-conditioned\" if cond_num < threshold else \"Ill-conditioned\"\n",
        "\n",
        "\n",
        "A = np.array([[1.0, 0.5, 1/3],\n",
        "              [0.5, 1/3.0, .25],\n",
        "              [1/3, .25, 1/5]])\n",
        "\n",
        "b = np.array([7.85, -19.3, 71.4])\n",
        "print(\"Matrix Condition:\", is_well_conditioned(A, 'inf'))\n",
        "solution = gauss_jordan(A, b)\n",
        "print(\"Solution:\", solution)\n",
        "print(A)\n",
        "\n"
      ],
      "metadata": {
        "colab": {
          "base_uri": "https://localhost:8080/"
        },
        "id": "Vl3n0g3XfYuv",
        "outputId": "07cd0dcc-287b-4691-bd24-ca7c29f48c5f"
      },
      "execution_count": 13,
      "outputs": [
        {
          "output_type": "stream",
          "name": "stdout",
          "text": [
            "748.0000000000027\n",
            "Matrix Condition: Ill-conditioned\n",
            "Solution: [  2907.45 -16840.2   16561.5 ]\n",
            "[[ 1.  0.  0.]\n",
            " [ 0.  1.  0.]\n",
            " [-0. -0.  1.]]\n"
          ]
        }
      ]
    },
    {
      "cell_type": "code",
      "source": [
        "import numpy as np\n",
        "\n",
        "def is_diagonally_dominant(A):\n",
        "    n = len(A)\n",
        "    for i in range(n):\n",
        "        diag = abs(A[i][i])\n",
        "        off_diag_sum = sum(abs(A[i][j]) for j in range(n) if i != j)\n",
        "        if diag < off_diag_sum:\n",
        "            return False\n",
        "    return True\n",
        "\n",
        "def gauss_seidel(A, b, x0, max_iter, epsilon, relaxation=False, lambd=1.0):\n",
        "    if not is_diagonally_dominant(A):\n",
        "        print(\"Matrix is not diagonally dominant\")\n",
        "        return None\n",
        "\n",
        "    n = len(b)\n",
        "    x = np.array(x0, dtype=float)\n",
        "\n",
        "    for _ in range(max_iter):\n",
        "        for i in range(n):\n",
        "            old = x[i]\n",
        "            sum_ = b[i]\n",
        "            for j in range(n):\n",
        "                if i != j:\n",
        "                    sum_ -= A[i][j] * x[j]\n",
        "            sum_ /= A[i][i]\n",
        "\n",
        "            x[i] = lambd * sum_ + (1 - lambd) * old if relaxation else sum_\n",
        "\n",
        "            if x[i] != 0 and abs((x[i] - old) / x[i]) * 100 <= epsilon:\n",
        "                return x\n",
        "\n",
        "    return x\n"
      ],
      "metadata": {
        "id": "V8irEdrhgtTy"
      },
      "execution_count": 14,
      "outputs": []
    }
  ]
}