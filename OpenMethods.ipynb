{
  "nbformat": 4,
  "nbformat_minor": 0,
  "metadata": {
    "colab": {
      "provenance": [],
      "authorship_tag": "ABX9TyNUiWoMmEAMflksEMbKk3dk",
      "include_colab_link": true
    },
    "kernelspec": {
      "name": "python3",
      "display_name": "Python 3"
    },
    "language_info": {
      "name": "python"
    }
  },
  "cells": [
    {
      "cell_type": "markdown",
      "metadata": {
        "id": "view-in-github",
        "colab_type": "text"
      },
      "source": [
        "<a href=\"https://colab.research.google.com/github/itsamekadio/Numerical_Methods_Course/blob/main/OpenMethods.ipynb\" target=\"_parent\"><img src=\"https://colab.research.google.com/assets/colab-badge.svg\" alt=\"Open In Colab\"/></a>"
      ]
    },
    {
      "cell_type": "code",
      "execution_count": 31,
      "metadata": {
        "colab": {
          "base_uri": "https://localhost:8080/"
        },
        "id": "BjJ7SbheXoQw",
        "outputId": "a1086593-3e95-4061-d9ff-88477fbc04b3"
      },
      "outputs": [
        {
          "output_type": "stream",
          "name": "stdout",
          "text": [
            "secant 0.5671432904097046\n"
          ]
        }
      ],
      "source": [
        "import math\n",
        "import sympy as sp\n",
        "\n",
        "x = sp.Symbol('x')\n",
        "\n",
        "g_expr = sp.exp(-x) - x\n",
        "\n",
        "gdash_expr = sp.diff(g_expr, x)\n",
        "\n",
        "g = sp.lambdify(x, g_expr, \"math\")\n",
        "gdash = sp.lambdify(x, gdash_expr, \"math\")\n",
        "\n",
        "def SimpleFixedPointIteration(xo,es,imax,ea):\n",
        "  xr=xo\n",
        "  iter=0\n",
        "  while 1:\n",
        "    xrold=xr\n",
        "    xr=g(xrold)\n",
        "    iter+=1\n",
        "    derivative = abs(gdash(xrold))\n",
        "    if derivative >= 1 :\n",
        "      return None\n",
        "\n",
        "\n",
        "    if xr!=0:\n",
        "      ea=abs((xr-xrold)/xr)*100\n",
        "    if ea<es or iter>=imax  :\n",
        "      break\n",
        "  return xr\n",
        "\n",
        "def NewtonRaphson(xo,es,imax,ea):\n",
        "  xi=xo\n",
        "  iter=0\n",
        "  ea=1000\n",
        "  while 1:\n",
        "    xiplusone=xi-(g(xi)/gdash(xi))\n",
        "    iter+=1\n",
        "\n",
        "    if xiplusone != 0:\n",
        "            ea = abs((xiplusone - xi) / xiplusone) * 100\n",
        "\n",
        "    if ea < es or iter >= imax:\n",
        "            break\n",
        "\n",
        "    xi = xiplusone\n",
        "  return xi\n",
        "def Secant(xo,xo2,es,imax):\n",
        "  ximinusone=xo\n",
        "  xi=xo2\n",
        "  iter=0\n",
        "  ea=1000\n",
        "  while 1:\n",
        "    xiplusone = xi - (g(xi) * (ximinusone - xi) / (g(ximinusone) - g(xi)))\n",
        "    iter+=1\n",
        "    if xiplusone != 0:\n",
        "            ea = abs((xiplusone - xi) / xiplusone) * 100\n",
        "\n",
        "    if ea < es or iter >= imax:\n",
        "            break\n",
        "    temp=xi\n",
        "    xi=xiplusone\n",
        "    ximinusone=temp\n",
        "\n",
        "  return    xi\n",
        "print(\"secant\",Secant(0, 1, 0.000001, 100))\n"
      ]
    },
    {
      "cell_type": "code",
      "source": [],
      "metadata": {
        "id": "Bk5FXXUPaCVl"
      },
      "execution_count": null,
      "outputs": []
    }
  ]
}