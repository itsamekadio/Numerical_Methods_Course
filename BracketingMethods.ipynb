{
  "nbformat": 4,
  "nbformat_minor": 0,
  "metadata": {
    "colab": {
      "provenance": [],
      "toc_visible": true,
      "authorship_tag": "ABX9TyN+9E3QCrJKMBeqUUtYtbl5",
      "include_colab_link": true
    },
    "kernelspec": {
      "name": "python3",
      "display_name": "Python 3"
    },
    "language_info": {
      "name": "python"
    }
  },
  "cells": [
    {
      "cell_type": "markdown",
      "metadata": {
        "id": "view-in-github",
        "colab_type": "text"
      },
      "source": [
        "<a href=\"https://colab.research.google.com/github/itsamekadio/Numerical_Methods_Course/blob/main/BracketingMethods.ipynb\" target=\"_parent\"><img src=\"https://colab.research.google.com/assets/colab-badge.svg\" alt=\"Open In Colab\"/></a>"
      ]
    },
    {
      "cell_type": "code",
      "execution_count": 8,
      "metadata": {
        "colab": {
          "base_uri": "https://localhost:8080/"
        },
        "id": "OA7mBVijM9KZ",
        "outputId": "ca431bee-1168-4d5d-e485-3219de3ce042"
      },
      "outputs": [
        {
          "output_type": "execute_result",
          "data": {
            "text/plain": [
              "1.3222917751024088"
            ]
          },
          "metadata": {},
          "execution_count": 8
        }
      ],
      "source": [
        "import time\n",
        "def f(x):\n",
        "      return x**3 - x - 2\n",
        "def bisectionMethod(xl,xu,imax,epsions):\n",
        "  iter=0\n",
        "  xr=0\n",
        "  ea=100000000\n",
        "  while 1:\n",
        "    xrold=xr\n",
        "    xr=(xl+xu)/2\n",
        "    fr=f(xr)\n",
        "    iter+=1\n",
        "    if xr!=0:\n",
        "        ea = abs((xr - xrold) / xr) * 100\n",
        "    test=f(xl)*fr\n",
        "    if test<0:\n",
        "      xu=xr\n",
        "    elif test>0:\n",
        "      xl=xr\n",
        "    else:\n",
        "      ea=0\n",
        "    if ea<epsions or iter>=imax:\n",
        "      break\n",
        "  return xr\n",
        "\n",
        "\n",
        "def falsepos(xl, xu, imax, epsions):\n",
        "    iter = 0\n",
        "    xr1 = xl\n",
        "    ea = 100\n",
        "\n",
        "    for i in range(imax):\n",
        "        xr = xu - (f(xu) * (xu - xl)) / (f(xu) - f(xl))\n",
        "\n",
        "        if i > 0:\n",
        "            ea = abs((xr - xr1) / xr) * 100\n",
        "\n",
        "        f_xl = f(xl)\n",
        "        f_xr = f(xr)\n",
        "\n",
        "\n",
        "        if ea < epsions:\n",
        "            break\n",
        "\n",
        "        if f_xl * f_xr < 0:\n",
        "            xu = xr\n",
        "        else:\n",
        "            xl = xr\n",
        "\n",
        "        xr1 = xr\n",
        "\n",
        "    return xr\n",
        "\n",
        "\n",
        "\n",
        "\n",
        "bisectionMethod(0,12,100,0.5)\n",
        "falsepos(0,12,100,0.5)\n",
        "\n",
        "\n"
      ]
    }
  ]
}