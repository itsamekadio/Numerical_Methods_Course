{
  "nbformat": 4,
  "nbformat_minor": 0,
  "metadata": {
    "colab": {
      "provenance": [],
      "toc_visible": true,
      "authorship_tag": "ABX9TyPjjBWZwzM+VUzAYIuwjMpH",
      "include_colab_link": true
    },
    "kernelspec": {
      "name": "python3",
      "display_name": "Python 3"
    },
    "language_info": {
      "name": "python"
    }
  },
  "cells": [
    {
      "cell_type": "markdown",
      "metadata": {
        "id": "view-in-github",
        "colab_type": "text"
      },
      "source": [
        "<a href=\"https://colab.research.google.com/github/itsamekadio/Numerical_Methods_Course/blob/main/BracketingMethods.ipynb\" target=\"_parent\"><img src=\"https://colab.research.google.com/assets/colab-badge.svg\" alt=\"Open In Colab\"/></a>"
      ]
    },
    {
      "cell_type": "code",
      "execution_count": 17,
      "metadata": {
        "colab": {
          "base_uri": "https://localhost:8080/"
        },
        "id": "OA7mBVijM9KZ",
        "outputId": "54794ab2-f2d1-4655-b540-5158019eddba"
      },
      "outputs": [
        {
          "output_type": "stream",
          "name": "stdout",
          "text": [
            "\n",
            "Bisection Method\n",
            "Iter  xl         xu         xr         εa (%)     f(xr)      Sign f(xr) f(xu)      Sign f(xu)\n",
            "==========================================================================================\n",
            "1     1.940000   1.950000   1.945000   100.000000 0.001376   Positive   0.018949   Positive  \n",
            "2     1.940000   1.945000   1.942500   0.128700   -0.007410  Negative   0.001376   Positive  \n",
            "3     1.942500   1.945000   1.943750   0.064309   -0.003017  Negative   0.001376   Positive  \n",
            "4     1.943750   1.945000   1.944375   0.032144   -0.000820  Negative   0.001376   Positive  \n",
            "5     1.944375   1.945000   1.944687   0.016069   0.000278   Positive   0.001376   Positive  \n",
            "6     1.944375   1.944687   1.944531   0.008035   -0.000271  Negative   0.000278   Positive  \n",
            "7     1.944531   1.944687   1.944609   0.004018   0.000003   Positive   0.000278   Positive  \n",
            "8     1.944531   1.944609   1.944570   0.002009   -0.000134  Negative   0.000003   Positive  \n",
            "9     1.944570   1.944609   1.944590   0.001004   -0.000065  Negative   0.000003   Positive  \n",
            "10    1.944590   1.944609   1.944600   0.000502   -0.000031  Negative   0.000003   Positive  \n",
            "\n",
            "False Position Method\n",
            "Iter  xl         xu         xr         εa (%)     f(xr)      Sign f(xr) f(xu)      Sign f(xu)\n",
            "==========================================================================================\n",
            "1     1.940000   1.950000   1.944608   100.000000 -0.000000  Negative   0.018949   Positive  \n",
            "2     1.944608   1.950000   1.944608   0.000001   0.000000   Positive   0.018949   Positive  \n"
          ]
        },
        {
          "output_type": "execute_result",
          "data": {
            "text/plain": [
              "1.9446084251127589"
            ]
          },
          "metadata": {},
          "execution_count": 17
        }
      ],
      "source": [
        "import math\n",
        "def f(x):\n",
        "    return math.sin(x) + math.cos(1 + x**2) - 1\n",
        "\n",
        "\n",
        "def bisectionMethod(xl, xu, imax, epsions):\n",
        "    print(\"\\nBisection Method\")\n",
        "    print(f\"{'Iter':<5} {'xl':<10} {'xu':<10} {'xr':<10} {'εa (%)':<10} {'f(xr)':<10} {'Sign f(xr)':<10} {'f(xu)':<10} {'Sign f(xu)':<10}\")\n",
        "    print(\"=\" * 90)\n",
        "\n",
        "    iter = 0\n",
        "    xr = 0\n",
        "    ea = 100000000\n",
        "\n",
        "    while True:\n",
        "        xrold = xr\n",
        "        xr = (xl + xu) / 2\n",
        "        fr = f(xr)\n",
        "        fu = f(xu)\n",
        "        iter += 1\n",
        "\n",
        "        if xr != 0:\n",
        "            ea = abs((xr - xrold) / xr) * 100\n",
        "\n",
        "        test = f(xl) * fr\n",
        "        sign_xr = \"Positive\" if fr > 0 else \"Negative\"\n",
        "        sign_xu = \"Positive\" if fu > 0 else \"Negative\"\n",
        "\n",
        "        print(f\"{iter:<5} {xl:<10.6f} {xu:<10.6f} {xr:<10.6f} {ea:<10.6f} {fr:<10.6f} {sign_xr:<10} {fu:<10.6f} {sign_xu:<10}\")\n",
        "\n",
        "        if test < 0:\n",
        "            xu = xr\n",
        "        elif test > 0:\n",
        "            xl = xr\n",
        "        else:\n",
        "            ea = 0\n",
        "\n",
        "        if ea < epsions or iter >= imax:\n",
        "            break\n",
        "\n",
        "    return xr\n",
        "\n",
        "def falsepos(xl, xu, imax, epsions):\n",
        "    print(\"\\nFalse Position Method\")\n",
        "    print(f\"{'Iter':<5} {'xl':<10} {'xu':<10} {'xr':<10} {'εa (%)':<10} {'f(xr)':<10} {'Sign f(xr)':<10} {'f(xu)':<10} {'Sign f(xu)':<10}\")\n",
        "    print(\"=\" * 90)\n",
        "\n",
        "    iter = 0\n",
        "    xr1 = xl\n",
        "    ea = 100\n",
        "\n",
        "    for i in range(imax):\n",
        "        xr = xu - (f(xu) * (xu - xl)) / (f(xu) - f(xl))\n",
        "        fr = f(xr)\n",
        "        fu = f(xu)\n",
        "\n",
        "        if i > 0:\n",
        "            ea = abs((xr - xr1) / xr) * 100\n",
        "\n",
        "        sign_xr = \"Positive\" if fr > 0 else \"Negative\"\n",
        "        sign_xu = \"Positive\" if fu > 0 else \"Negative\"\n",
        "\n",
        "        print(f\"{i+1:<5} {xl:<10.6f} {xu:<10.6f} {xr:<10.6f} {ea:<10.6f} {fr:<10.6f} {sign_xr:<10} {fu:<10.6f} {sign_xu:<10}\")\n",
        "\n",
        "        if ea < epsions:\n",
        "            break\n",
        "\n",
        "        if f(xl) * fr < 0:\n",
        "            xu = xr\n",
        "        else:\n",
        "            xl = xr\n",
        "\n",
        "        xr1 = xr\n",
        "\n",
        "    return xr\n",
        "\n",
        "\n",
        "# Running both methods\n",
        "bisectionMethod(1.94, 1.95, 100, 1/1000)\n",
        "falsepos(1.94, 1.95, 100, 1/1000)\n"
      ]
    }
  ]
}